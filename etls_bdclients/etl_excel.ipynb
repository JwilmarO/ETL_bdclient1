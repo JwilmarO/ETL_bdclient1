{
 "cells": [
  {
   "cell_type": "code",
   "execution_count": null,
   "metadata": {},
   "outputs": [],
   "source": [
<<<<<<< HEAD
    "PIMP(\n",
    "\n",
    ")\n",
    "print(PIMP)"
=======
    "print(:D)\n",
    "\n",
    "for (\n",
    "    x = 0;\n",
    "    x < 10;\n",
    "\n",
    ");"
>>>>>>> 411ae75ad660a56db674ada73921f0dd5f2d99f1
   ]
  }
 ],
 "metadata": {
  "language_info": {
   "name": "python"
  },
  "orig_nbformat": 4
 },
 "nbformat": 4,
 "nbformat_minor": 2
}
