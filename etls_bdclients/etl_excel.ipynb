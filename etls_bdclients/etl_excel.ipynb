{
 "cells": [
  {
   "cell_type": "code",
   "execution_count": 1,
   "metadata": {},
   "outputs": [
    {
     "name": "stdout",
     "output_type": "stream",
     "text": [
      "Requirement already satisfied: psycopg2 in c:\\users\\mariana\\anaconda3\\envs\\etlbdclients\\lib\\site-packages (2.9.5)\n",
      "Requirement already satisfied: pandas in c:\\users\\mariana\\anaconda3\\envs\\etlbdclients\\lib\\site-packages (1.5.3)\n",
      "Requirement already satisfied: numpy>=1.20.3 in c:\\users\\mariana\\anaconda3\\envs\\etlbdclients\\lib\\site-packages (from pandas) (1.24.2)\n",
      "Requirement already satisfied: pytz>=2020.1 in c:\\users\\mariana\\anaconda3\\envs\\etlbdclients\\lib\\site-packages (from pandas) (2022.7.1)\n",
      "Requirement already satisfied: python-dateutil>=2.8.1 in c:\\users\\mariana\\anaconda3\\envs\\etlbdclients\\lib\\site-packages (from pandas) (2.8.2)\n",
      "Requirement already satisfied: six>=1.5 in c:\\users\\mariana\\anaconda3\\envs\\etlbdclients\\lib\\site-packages (from python-dateutil>=2.8.1->pandas) (1.16.0)\n",
      "Note: you may need to restart the kernel to use updated packages.\n"
     ]
    }
   ],
   "source": [
    "pip install psycopg2 pandas"
   ]
  },
  {
   "cell_type": "code",
   "execution_count": 78,
   "metadata": {},
   "outputs": [
    {
     "name": "stdout",
     "output_type": "stream",
     "text": [
      "       Columna1                                           Columna2  \\\n",
      "0     123456789      Cliente prospecto u oportunidad sin calificar   \n",
      "1     999999999  Cliente con propuesta en negociación o cliente...   \n",
      "2     999999999      Cliente prospecto u oportunidad sin calificar   \n",
      "3     123456789  Lead calificado, con cita efectiva y primer ac...   \n",
      "4     123456789      Cliente prospecto u oportunidad sin calificar   \n",
      "..          ...                                                ...   \n",
      "369  8002318481  Lead calificado, con cita efectiva y primer ac...   \n",
      "370  9014365294  Lead calificado, con cita efectiva y primer ac...   \n",
      "371         900  Lead calificado, con cita efectiva y primer ac...   \n",
      "372   830022462  Lead calificado, con cita efectiva y primer ac...   \n",
      "373     1750873  Lead calificado, con cita efectiva y primer ac...   \n",
      "\n",
      "                                           Columna3 Columna4 Columna5  \\\n",
      "0                                            Prueba     None       10   \n",
      "1                                        Prueba SAS     None       47   \n",
      "2                                        Prueba SAS     None       47   \n",
      "3                                  Lambda analytics     None       47   \n",
      "4                                Lambda analytics 2     None       47   \n",
      "..                                              ...      ...      ...   \n",
      "369                           ESMERALDA SANTA ROSA     17050       47   \n",
      "370                     FERRALIA AGF COLOMBIA S.A.S    17050       47   \n",
      "371  SUPERINTENDENCIA EMPRESA SEGURIDAD Y VIGILACIA    17050       47   \n",
      "372                                 ORICA COLOMBIA     17050       47   \n",
      "373                    GOMEZ-PINZON ABOGADOS S.A.S     17050       47   \n",
      "\n",
      "    Columna6    Columna7                  Columna8                  Columna9  \\\n",
      "0          2    Animales          Lambda Analytics          Lambda Analytics   \n",
      "1          2     Minería  Aplicación de SharePoint          Lambda Analytics   \n",
      "2          2     Minería  Aplicación de SharePoint  Aplicación de SharePoint   \n",
      "3          1  Temporales  Aplicación de SharePoint          Lambda Analytics   \n",
      "4          2  Temporales  Aplicación de SharePoint  Aplicación de SharePoint   \n",
      "..       ...         ...                       ...                       ...   \n",
      "369        1   Servicios          Jenniffer Molano          Jenniffer Molano   \n",
      "370        1   Industria          Jenniffer Molano          Jenniffer Molano   \n",
      "371        1   Servicios          Jenniffer Molano          Jenniffer Molano   \n",
      "372        1        Otro          Jenniffer Molano          Jenniffer Molano   \n",
      "373        1   Servicios          Jenniffer Molano          Jenniffer Molano   \n",
      "\n",
      "              Columna10           Columna11  \n",
      "0   2022-08-10 16:14:00 2022-09-02 12:11:00  \n",
      "1   2022-09-02 15:48:00 2022-09-02 15:49:00  \n",
      "2   2022-09-08 14:12:00 2022-09-08 14:12:00  \n",
      "3   2022-09-08 14:23:00 2022-09-08 14:24:00  \n",
      "4   2022-09-15 22:52:00 2022-09-15 22:52:00  \n",
      "..                  ...                 ...  \n",
      "369 2023-03-02 14:59:00 2023-03-02 14:59:00  \n",
      "370 2023-03-02 15:02:00 2023-03-02 15:02:00  \n",
      "371 2023-03-02 15:05:00 2023-03-02 15:05:00  \n",
      "372 2023-03-02 15:12:00 2023-03-02 15:12:00  \n",
      "373 2023-03-02 15:14:00 2023-03-02 15:14:00  \n",
      "\n",
      "[374 rows x 11 columns]\n"
     ]
    }
   ],
   "source": [
    "import pandas as pd\n",
    "import psycopg2\n",
    "\n",
    "# Conectarse a la base de datos de PostgreSQL\n",
    "conn = psycopg2.connect(\n",
    "    host='localhost',\n",
    "    database='bd_clients',\n",
    "    user='postgres',\n",
    "    password='admin0311',\n",
    "    port=5433\n",
    ")\n",
    "\n",
    "# Leer el archivo Excel en un dataframe de Pandas\n",
    "data = pd.read_excel('C:\\\\Users\\\\MARIANA\\\\Downloads\\\\prueba.xlsx', sheet_name='Hoja1')\n",
    "\n",
    "data['Columna1'].fillna(value='', inplace=True)\n",
    "data['Columna3'].fillna(value='', inplace=True)\n",
    "#data['Columna4'].fillna(value=None, inplace=True)\n",
    "#data['Columna5'].fillna(value=None, inplace=True)\n",
    "#data['Columna6'].fillna(value=None, inplace=True)\n",
    "data['Columna7'].fillna(value='', inplace=True)\n",
    "data['Columna9'].fillna(value='', inplace=True)\n",
    "\n",
    "\n",
    "data = data.astype({'Columna1': str, 'Columna3': str, 'Columna7': str,'Columna9': str})\n",
    "\n",
    "data['Columna4'] = data['Columna4'].fillna(-1)\n",
    "data['Columna4'] = data['Columna4'].astype(int)\n",
    "data['Columna4'] = data['Columna4'].astype(str)\n",
    "data['Columna4'] = data['Columna4'].replace('-1', None)\n",
    "\n",
    "data['Columna5'] = data['Columna5'].fillna(-1)\n",
    "data['Columna5'] = data['Columna5'].astype(int)\n",
    "data['Columna5'] = data['Columna5'].astype(str)\n",
    "data['Columna5'] = data['Columna5'].replace('-1', None)\n",
    "\n",
    "\n",
    "data['Columna6'] = data['Columna6'].fillna(-1)\n",
    "data['Columna6'] = data['Columna6'].astype(int)\n",
    "data['Columna6'] = data['Columna6'].astype(str)\n",
    "data['Columna6'] = data['Columna6'].replace('-1', None)\n",
    "\"\"\"\"\"\n",
    "data.loc[data['Columna4'] == 123456789, 'Columna4'] = 'NULL'\n",
    "data.loc[data['Columna5'] == 123456789, 'Columna5'] = 'NULL'\n",
    "data.loc[data['Columna6'] == 123456789, 'Columna6'] = 'NULL'\"\"\"\n",
    "data = data.replace({'Columna1': r'\\.0$'}, {'Columna1': ''}, regex=True)\n",
    "data['Columna1'] = data['Columna1'].replace('', None)\n",
    "\n",
    "\n",
    "print(data)"
   ]
  },
  {
   "cell_type": "code",
   "execution_count": 79,
   "metadata": {},
   "outputs": [],
   "source": [
    "cur = conn.cursor()\n",
    "for index, row in data.iterrows():\n",
    "    cur.execute(\"INSERT INTO prueba (nit, nombre, ciudad_id, pais_id, producto_id, sector, creador) VALUES (%s, %s, %s, %s, %s, %s, %s)\", (row['Columna1'], row['Columna3'], row['Columna4'], row['Columna5'], row['Columna6'], row['Columna7'], row['Columna9']))\n",
    "conn.commit()"
   ]
  }
 ],
 "metadata": {
  "kernelspec": {
   "display_name": "ETLbdclients",
   "language": "python",
   "name": "python3"
  },
  "language_info": {
   "codemirror_mode": {
    "name": "ipython",
    "version": 3
   },
   "file_extension": ".py",
   "mimetype": "text/x-python",
   "name": "python",
   "nbconvert_exporter": "python",
   "pygments_lexer": "ipython3",
   "version": "3.9.16"
  },
  "orig_nbformat": 4
 },
 "nbformat": 4,
 "nbformat_minor": 2
}
